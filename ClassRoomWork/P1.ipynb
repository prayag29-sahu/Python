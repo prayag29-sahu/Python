{
 "cells": [
  {
   "cell_type": "markdown",
   "id": "ca55e190",
   "metadata": {},
   "source": [
    "P1 : A wire is the form of Arc at an angle of 60 degrees and the radius of the arc is 42. The wire is converted into a square. Find the area of the square."
   ]
  },
  {
   "cell_type": "code",
   "execution_count": 1,
   "id": "2911e449",
   "metadata": {},
   "outputs": [
    {
     "name": "stdout",
     "output_type": "stream",
     "text": [
      "Area of the square is: 120.90265391334464\n"
     ]
    }
   ],
   "source": [
    "import math\n",
    "\n",
    "A=60\n",
    "R=42\n",
    "L=(A/360)*2*math.pi*R\n",
    "side=L/4\n",
    "area=side**2\n",
    "print(\"Area of the square is:\", area)"
   ]
  }
 ],
 "metadata": {
  "kernelspec": {
   "display_name": "base",
   "language": "python",
   "name": "python3"
  },
  "language_info": {
   "codemirror_mode": {
    "name": "ipython",
    "version": 3
   },
   "file_extension": ".py",
   "mimetype": "text/x-python",
   "name": "python",
   "nbconvert_exporter": "python",
   "pygments_lexer": "ipython3",
   "version": "3.13.5"
  }
 },
 "nbformat": 4,
 "nbformat_minor": 5
}
