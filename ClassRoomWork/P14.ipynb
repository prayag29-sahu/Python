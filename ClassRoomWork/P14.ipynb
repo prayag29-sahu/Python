{
 "cells": [
  {
   "cell_type": "markdown",
   "id": "f98ec396",
   "metadata": {},
   "source": [
    "Davos wants to build a game and he wants to build a staircase in the game.\n",
    "The staircase must be in the form of\n",
    "\n",
    "#\n",
    "##\n",
    "###\n",
    "####\n",
    "\n",
    "Input\n",
    "The first line is the value of N.\n",
    "\n",
    "Output:\n",
    "Number of levels that must be printed\n",
    "\n",
    "Example\n",
    "Input\n",
    "4\n",
    "\n",
    "output:\n",
    "#\n",
    "##\n",
    "###\n",
    "####"
   ]
  },
  {
   "cell_type": "code",
   "execution_count": 1,
   "id": "fff51c91",
   "metadata": {},
   "outputs": [
    {
     "name": "stdout",
     "output_type": "stream",
     "text": [
      "#\n",
      "##\n",
      "###\n",
      "####\n"
     ]
    }
   ],
   "source": [
    "\n",
    "N = 4 \n",
    "\n",
    "for i in range(1, N + 1):\n",
    "    print('#' * i)\n"
   ]
  }
 ],
 "metadata": {
  "kernelspec": {
   "display_name": "base",
   "language": "python",
   "name": "python3"
  },
  "language_info": {
   "codemirror_mode": {
    "name": "ipython",
    "version": 3
   },
   "file_extension": ".py",
   "mimetype": "text/x-python",
   "name": "python",
   "nbconvert_exporter": "python",
   "pygments_lexer": "ipython3",
   "version": "3.13.5"
  }
 },
 "nbformat": 4,
 "nbformat_minor": 5
}
