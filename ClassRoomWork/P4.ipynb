{
 "cells": [
  {
   "cell_type": "markdown",
   "id": "aff9d605",
   "metadata": {},
   "source": [
    "Write a program that converts and prints user given measurement in inches into\n",
    "1. foot(12 inches)\n",
    "2. yard(36 inches)\n",
    "3. centimetres(2.54 inches)\n",
    "4. meter(39.37 inches)"
   ]
  },
  {
   "cell_type": "code",
   "execution_count": 1,
   "id": "a31df976",
   "metadata": {},
   "outputs": [
    {
     "name": "stdout",
     "output_type": "stream",
     "text": [
      "In Feet: 6.00 ft\n",
      "In Yards: 2.00 yd\n",
      "In Centimeters: 182.88 cm\n",
      "In Meters: 1.83 m\n"
     ]
    }
   ],
   "source": [
    "\n",
    "inches = 72\n",
    "\n",
    "feet = inches / 12             \n",
    "yards = inches / 36           \n",
    "centimeters = inches * 2.54    \n",
    "meters = inches / 39.37   \n",
    "\n",
    "\n",
    "print(f\"In Feet: {feet:.2f} ft\")\n",
    "print(f\"In Yards: {yards:.2f} yd\")\n",
    "print(f\"In Centimeters: {centimeters:.2f} cm\")\n",
    "print(f\"In Meters: {meters:.2f} m\")\n"
   ]
  }
 ],
 "metadata": {
  "kernelspec": {
   "display_name": "base",
   "language": "python",
   "name": "python3"
  },
  "language_info": {
   "codemirror_mode": {
    "name": "ipython",
    "version": 3
   },
   "file_extension": ".py",
   "mimetype": "text/x-python",
   "name": "python",
   "nbconvert_exporter": "python",
   "pygments_lexer": "ipython3",
   "version": "3.13.5"
  }
 },
 "nbformat": 4,
 "nbformat_minor": 5
}
