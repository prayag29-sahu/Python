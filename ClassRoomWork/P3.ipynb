{
 "cells": [
  {
   "cell_type": "markdown",
   "id": "0bd6e33d",
   "metadata": {},
   "source": [
    "John is trying to solve the arithmetic series(AP). He wants to find two things in the series\n",
    "1. He wants to find nth terms in the series\n",
    "2. He wants to find the sum up to the nth term.\n"
   ]
  },
  {
   "cell_type": "code",
   "execution_count": 1,
   "id": "9124f44f",
   "metadata": {},
   "outputs": [
    {
     "name": "stdout",
     "output_type": "stream",
     "text": [
      "The 5th term (Tn) = 14\n",
      "The sum up to 5 terms (Sn) = 40.0\n"
     ]
    }
   ],
   "source": [
    "# Input values\n",
    "a = 2\n",
    "d = 3\n",
    "n = 5\n",
    "\n",
    "nthTerm = a + (n - 1) * d\n",
    "\n",
    "sumOfN = (n / 2) * (2 * a + (n - 1) * d)\n",
    "\n",
    "print(f\"The {n}th term (Tn) = {nthTerm}\")\n",
    "print(f\"The sum up to {n} terms (Sn) = {sumOfN}\")\n"
   ]
  }
 ],
 "metadata": {
  "kernelspec": {
   "display_name": "base",
   "language": "python",
   "name": "python3"
  },
  "language_info": {
   "codemirror_mode": {
    "name": "ipython",
    "version": 3
   },
   "file_extension": ".py",
   "mimetype": "text/x-python",
   "name": "python",
   "nbconvert_exporter": "python",
   "pygments_lexer": "ipython3",
   "version": "3.13.5"
  }
 },
 "nbformat": 4,
 "nbformat_minor": 5
}
