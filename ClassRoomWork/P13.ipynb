{
 "cells": [
  {
   "cell_type": "markdown",
   "id": "d2588374",
   "metadata": {},
   "source": [
    "Ramesh and Suresh playing a simple game. they have to put some number of Stones from one place to another and started doing their work. They decided, they end up with a fun challenge who will put the last Stone.\n",
    "\n",
    "They to follow a simple rule, In the i'th round, Ramesh puts i stones whereas Suresh puts ix2 stones.\n",
    "There are only N stones, you need to help find the challenge result to find who put the last stone.\n",
    "\n",
    "Input:\n",
    "The first line contains an integer N.\n",
    "\n",
    "Output:\n",
    "Output Ramesh(without the quotes) if Ramesh puts the last Stones, \"Suresh\"(without the quotes) otherwise.\n",
    "\n",
    "Example:\n",
    "Input:\n",
    "13\n",
    "\n",
    "Output:\n",
    "Suresh\n",
    "\n",
    "Explanation:\n",
    "13 Stones are there :\n",
    "Ramesh Suresh\n",
    "1 2\n",
    "2 4\n",
    "3 1 ( Only 1 remain)\n",
    "Hence, Suresh puts the last one."
   ]
  },
  {
   "cell_type": "code",
   "execution_count": 1,
   "id": "b6b33f2b",
   "metadata": {},
   "outputs": [
    {
     "name": "stdout",
     "output_type": "stream",
     "text": [
      "Suresh\n"
     ]
    }
   ],
   "source": [
    "\n",
    "N = 13 \n",
    "\n",
    "rem = N\n",
    "round = 1\n",
    "\n",
    "while True:\n",
    "    if rem <= round:\n",
    "        print(\"Ramesh\")\n",
    "        break\n",
    "    rem -= round\n",
    "\n",
    "    sureshStones = round * 2\n",
    "    if rem <= sureshStones:\n",
    "        print(\"Suresh\")\n",
    "        break\n",
    "    rem-= sureshStones\n",
    "\n",
    "    round += 1\n"
   ]
  }
 ],
 "metadata": {
  "kernelspec": {
   "display_name": "base",
   "language": "python",
   "name": "python3"
  },
  "language_info": {
   "codemirror_mode": {
    "name": "ipython",
    "version": 3
   },
   "file_extension": ".py",
   "mimetype": "text/x-python",
   "name": "python",
   "nbconvert_exporter": "python",
   "pygments_lexer": "ipython3",
   "version": "3.13.5"
  }
 },
 "nbformat": 4,
 "nbformat_minor": 5
}
