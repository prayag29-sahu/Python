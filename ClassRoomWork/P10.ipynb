{
 "cells": [
  {
   "cell_type": "markdown",
   "id": "69301c44",
   "metadata": {},
   "source": [
    "Ramesh got a loss in business. Ramesh has N people who he can be Partners, so he decides to choose among them according to their skills set Yi(1<=i<=N). He wants at least X skills in his partners.\n",
    "Help Ramesh find his partners.\n",
    "\n",
    "Input:\n",
    "The first line of the input contains an integer N denoting the number of people.\n",
    "Next line contains a single integer X\n",
    "denoting the minimum skill required to be Ramesh's partner.\n",
    "Next, n lines contain one integer Y\n",
    "denoting the skill of the ith person.\n",
    "Output:\n",
    "For each person print if he can be a partner with Ramesh. YES if he can be a partner with Ramesh else NO\n",
    "\n",
    "Example:\n",
    "Sample Input:\n",
    "5\n",
    "100\n",
    "110\n",
    "130\n",
    "90\n",
    "100\n",
    "45\n",
    "\n",
    "Output:\n",
    "YES\n",
    "YES\n",
    "NO\n",
    "YES\n",
    "NO\n",
    "\n"
   ]
  },
  {
   "cell_type": "code",
   "execution_count": 1,
   "id": "a4453fa5",
   "metadata": {},
   "outputs": [
    {
     "name": "stdout",
     "output_type": "stream",
     "text": [
      "YES\n",
      "YES\n",
      "NO\n",
      "YES\n",
      "NO\n"
     ]
    }
   ],
   "source": [
    "\n",
    "N = 5  \n",
    "X = 100 \n",
    "skills = [110, 130, 90, 100, 45]  \n",
    "\n",
    "for skill in skills:\n",
    "    if skill >= X:\n",
    "        print(\"YES\")\n",
    "    else:\n",
    "        print(\"NO\")\n"
   ]
  }
 ],
 "metadata": {
  "kernelspec": {
   "display_name": "base",
   "language": "python",
   "name": "python3"
  },
  "language_info": {
   "codemirror_mode": {
    "name": "ipython",
    "version": 3
   },
   "file_extension": ".py",
   "mimetype": "text/x-python",
   "name": "python",
   "nbconvert_exporter": "python",
   "pygments_lexer": "ipython3",
   "version": "3.13.5"
  }
 },
 "nbformat": 4,
 "nbformat_minor": 5
}
