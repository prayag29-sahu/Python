{
 "cells": [
  {
   "cell_type": "markdown",
   "id": "9773f449",
   "metadata": {},
   "source": [
    "Rahul is very busy with studies he doesn't want to waste his time. He keeps account of the duration of each and every work. Now he doesn't even get time to calculate the duration of his studying, So your job is to count the durations for each work and give it to Rahul.\n",
    "\n",
    "Input:\n",
    "The first line will be given by N number of works\n",
    "Next, N line will be given SH, SM, EH and EM each separated by space(SH=starting hr, SM=starting min, EH=ending hr, EM=ending min)\n",
    "\n",
    "Output:\n",
    "You need to print duration Rahul studies in the form HH MM.\n",
    "\n",
    "Example:\n",
    "Sample Input:\n",
    "2\n",
    "1 44 2 14\n",
    "2 42 8 23\n",
    "\n",
    "Sample Output:\n",
    "0 30\n",
    "5 41"
   ]
  },
  {
   "cell_type": "code",
   "execution_count": null,
   "id": "19ee9b0e",
   "metadata": {},
   "outputs": [
    {
     "name": "stdout",
     "output_type": "stream",
     "text": [
      "0 30\n",
      "5 41\n"
     ]
    }
   ],
   "source": [
    "\n",
    "N = 2  \n",
    "works = [\n",
    "    [1, 44, 2, 14],\n",
    "    [2, 42, 8, 23]\n",
    "]\n",
    "\n",
    "for w in works:\n",
    "    SH, SM, EH, EM = w\n",
    "    \n",
    "    startMinutes = SH * 60 + SM\n",
    "    endMinutes = EH * 60 + EM\n",
    "\n",
    "    durationMinutes = endMinutes - startMinutes\n",
    "    \n",
    "    hours = durationMinutes // 60\n",
    "    minutes = durationMinutes % 60\n",
    "    \n",
    "    print(hours, minutes)\n"
   ]
  }
 ],
 "metadata": {
  "kernelspec": {
   "display_name": "base",
   "language": "python",
   "name": "python3"
  },
  "language_info": {
   "codemirror_mode": {
    "name": "ipython",
    "version": 3
   },
   "file_extension": ".py",
   "mimetype": "text/x-python",
   "name": "python",
   "nbconvert_exporter": "python",
   "pygments_lexer": "ipython3",
   "version": "3.13.5"
  }
 },
 "nbformat": 4,
 "nbformat_minor": 5
}
