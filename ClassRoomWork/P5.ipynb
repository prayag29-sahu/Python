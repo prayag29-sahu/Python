{
 "cells": [
  {
   "cell_type": "markdown",
   "id": "8b5433fe",
   "metadata": {},
   "source": [
    "Consider int val=0xCAFE; Write expressions using bitwise operators that do the following:\n",
    "1. test if at least three of last four bits (LSB) are on\n",
    "2. reverse the byte order (i.e., produce val=0xFECA)\n",
    "3. rotate four bits (i.e., produce val=0xECAF)"
   ]
  }
 ],
 "metadata": {
  "language_info": {
   "name": "python"
  }
 },
 "nbformat": 4,
 "nbformat_minor": 5
}
