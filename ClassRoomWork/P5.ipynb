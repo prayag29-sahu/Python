{
 "cells": [
  {
   "cell_type": "markdown",
   "id": "8b5433fe",
   "metadata": {},
   "source": [
    "Consider int val=0xCAFE; Write expressions using bitwise operators that do the following:\n",
    "1. test if at least three of last four bits (LSB) are on\n",
    "2. reverse the byte order (i.e., produce val=0xFECA)\n",
    "3. rotate four bits (i.e., produce val=0xECAF)"
   ]
  },
  {
   "cell_type": "code",
   "execution_count": 4,
   "id": "fbb311d5",
   "metadata": {},
   "outputs": [
    {
     "name": "stdout",
     "output_type": "stream",
     "text": [
      "at least three of last four bits (LSB) are on\n",
      "Reversed byte order: 0xFECA\n",
      "Rotated 4 bits: 0xECAF\n"
     ]
    }
   ],
   "source": [
    "\n",
    "val = 0xCAFE   # In binary: 1100101011111110\n",
    "\n",
    "last4Bits = val & 0xF         \n",
    "countBits = bin(last4Bits).count('1')  \n",
    "if countBits >= 3:\n",
    "    print(\"at least three of last four bits (LSB) are on\")\n",
    "else:\n",
    "    print(\"Less than three of last four bits (LSB) are on\")\n",
    "\n",
    "\n",
    "lowerByte = val & 0xFF            \n",
    "higherByte = (val >> 8) & 0xFF   \n",
    "reversedVal = (lowerByte << 8) | higherByte\n",
    "print(f\"Reversed byte order: 0x{reversedVal:X}\")\n",
    "\n",
    "rotatedVal = ((val >> 4) | ((val & 0xF) << 12)) & 0xFFFF\n",
    "print(f\"Rotated 4 bits: 0x{rotatedVal:X}\")\n"
   ]
  }
 ],
 "metadata": {
  "kernelspec": {
   "display_name": "base",
   "language": "python",
   "name": "python3"
  },
  "language_info": {
   "codemirror_mode": {
    "name": "ipython",
    "version": 3
   },
   "file_extension": ".py",
   "mimetype": "text/x-python",
   "name": "python",
   "nbconvert_exporter": "python",
   "pygments_lexer": "ipython3",
   "version": "3.13.5"
  }
 },
 "nbformat": 4,
 "nbformat_minor": 5
}
