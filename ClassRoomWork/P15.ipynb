{
 "cells": [
  {
   "cell_type": "markdown",
   "id": "b2ba32c6",
   "metadata": {},
   "source": [
    "Write a Python program to print \"Pascal's Triangle\".\n",
    "The numbers in the r-th row of Pascal's triangle represent\n",
    "the coefficients in the Binomial expansion of (a+b)^{r-1}.\n",
    "The first four rows of the Pascal triangle are shown below:-\n",
    "1\n",
    "1 1\n",
    "1 2 1\n",
    "1 3 3 1\n",
    "\n",
    "input:\n",
    "Number of rows of Pascal triangle to print\n",
    "\n",
    "output:\n",
    "Resultant Pascal's Triangle"
   ]
  },
  {
   "cell_type": "code",
   "execution_count": 3,
   "id": "a90b426b",
   "metadata": {},
   "outputs": [
    {
     "name": "stdout",
     "output_type": "stream",
     "text": [
      "1\n",
      "1 1\n",
      "1 2 1\n",
      "1 3 3 1\n",
      "1 4 6 4 1\n"
     ]
    }
   ],
   "source": [
    "\n",
    "num = 5\n",
    "\n",
    "for i in range(num):\n",
    "    value = 1  \n",
    "    row = []\n",
    "    for j in range(i + 1):\n",
    "        row.append(str(value))\n",
    "        value = value * (i - j) // (j + 1)\n",
    "    print(' '.join(row))\n"
   ]
  }
 ],
 "metadata": {
  "kernelspec": {
   "display_name": "base",
   "language": "python",
   "name": "python3"
  },
  "language_info": {
   "codemirror_mode": {
    "name": "ipython",
    "version": 3
   },
   "file_extension": ".py",
   "mimetype": "text/x-python",
   "name": "python",
   "nbconvert_exporter": "python",
   "pygments_lexer": "ipython3",
   "version": "3.13.5"
  }
 },
 "nbformat": 4,
 "nbformat_minor": 5
}
