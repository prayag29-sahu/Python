{
 "cells": [
  {
   "cell_type": "markdown",
   "id": "400189cb",
   "metadata": {},
   "source": [
    "Kevin was doing math operations a lot and he should deliver his task tomorrow. His math’s teacher gives him two numbers a and b. The problem consists of finding the last digit of the potency of the base a and index b. Help Kevin with his problem. You are given two integer numbers: the base a (0 <= a <= 20) and the index b (0 <= b <= 10^10), a and b both are not 0. You have to find the last digit of a^b.\n",
    "\n",
    "Input:\n",
    "The first line of input contains an integer N, the number of test cases (N <= 30). N test cases follow. For each test case will appear a and b separated by space.\n",
    "\n",
    "Output:\n",
    "For each test case output an integer per line representing the result.\n",
    "\n",
    "Example:\n",
    "Input:\n",
    "2\n",
    "3 10\n",
    "6 2\n",
    "\n",
    "Output:\n",
    "9\n",
    "6"
   ]
  },
  {
   "cell_type": "code",
   "execution_count": null,
   "id": "0df3c8a6",
   "metadata": {},
   "outputs": [
    {
     "name": "stdout",
     "output_type": "stream",
     "text": [
      "9\n",
      "6\n"
     ]
    }
   ],
   "source": [
    "def lastDigit(a, b):\n",
    "    a = a % 10\n",
    "\n",
    "    if b == 0:\n",
    "        return 1\n",
    "\n",
    "    exp = b % 4\n",
    "    if exp == 0:\n",
    "        exp = 4\n",
    "\n",
    "    result = (a ** exp) % 10\n",
    "    return result\n",
    "\n",
    "N = 2\n",
    "tc = [\n",
    "    (3, 10),\n",
    "    (6, 2)\n",
    "]\n",
    "\n",
    "for a, b in tc:\n",
    "    print(lastDigit(a, b))\n"
   ]
  }
 ],
 "metadata": {
  "kernelspec": {
   "display_name": "base",
   "language": "python",
   "name": "python3"
  },
  "language_info": {
   "codemirror_mode": {
    "name": "ipython",
    "version": 3
   },
   "file_extension": ".py",
   "mimetype": "text/x-python",
   "name": "python",
   "nbconvert_exporter": "python",
   "pygments_lexer": "ipython3",
   "version": "3.13.5"
  }
 },
 "nbformat": 4,
 "nbformat_minor": 5
}
