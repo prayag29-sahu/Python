{
 "cells": [
  {
   "cell_type": "markdown",
   "id": "517fe0b8",
   "metadata": {},
   "source": [
    "Reversed number is a number the order of digits is reversed. The first digit becomes last and vice versa. Note that all the leading zeros are omitted. That means if the number ends with a zero, the zero is lost by reversing (e.g. 1200 gives 21). Also, note that the reversed number never has any trailing zeros.\n",
    "\n",
    "Jones needs to calculate with reversed numbers. Your task is to add two reversed numbers and output their reversed sum. Of course, the result is not unique because any particular number is a reversed form of several numbers (e.g. 21 could be 12, 120 or 1200 before reversing). Thus we must assume that no zeros were lost by reversing (e.g. assume that the original number was 12).\n",
    "\n",
    "Input:\n",
    "The input consists of N cases. The first line of the input contains only positive integer N. Then follow the cases. Each case consists of exactly one line with two positive integers separated by space. These are the reversed numbers you are to add.\n",
    "\n",
    "Constraints:\n",
    "1 <= N <= 10^5\n",
    "1 <= a <= 10^18\n",
    "1 <= b <= 10^18\n",
    "\n",
    "Output:\n",
    "The reversed sum of two reversed numbers. Omit any leading zeros in the output.\n",
    "\n",
    "Example:\n",
    "Sample input:\n",
    "3\n",
    "24 1\n",
    "4358 754\n",
    "305 794\n",
    "\n",
    "Sample output:\n",
    "34\n",
    "1998\n",
    "1"
   ]
  },
  {
   "cell_type": "code",
   "execution_count": 2,
   "id": "4e161e3a",
   "metadata": {},
   "outputs": [
    {
     "name": "stdout",
     "output_type": "stream",
     "text": [
      "34\n"
     ]
    }
   ],
   "source": [
    "def reverseNumber(num):\n",
    "    return int(str(num)[::-1]) \n",
    "\n",
    "num = \"24 1\"\n",
    "a, b = num.split()\n",
    "\n",
    "aRev = reverseNumber(a)\n",
    "bRev = reverseNumber(b)\n",
    "total = aRev + bRev\n",
    "print(reverseNumber(total))\n",
    "\n"
   ]
  }
 ],
 "metadata": {
  "kernelspec": {
   "display_name": "base",
   "language": "python",
   "name": "python3"
  },
  "language_info": {
   "codemirror_mode": {
    "name": "ipython",
    "version": 3
   },
   "file_extension": ".py",
   "mimetype": "text/x-python",
   "name": "python",
   "nbconvert_exporter": "python",
   "pygments_lexer": "ipython3",
   "version": "3.13.5"
  }
 },
 "nbformat": 4,
 "nbformat_minor": 5
}
