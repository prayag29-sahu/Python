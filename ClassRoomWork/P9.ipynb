{
 "cells": [
  {
   "cell_type": "markdown",
   "id": "4770e6a7",
   "metadata": {},
   "source": [
    "sophie has N lemon cakes and needs to decide how many lemon cakes to place in each package. Each package must contain the same number of lemon cakes. Sophie will choose an integer A between 1 and N, inclusive, and place exactly A lemon cakes into each package. Sophie makes as many packages as possible. Sophie then gets to eat the remaining lemon cakes. Sophie enjoys eating lemon cakes very much. Help Sophie choose the package size A that will let her eat as many lemon cakes as possible.\n",
    "\n",
    "Input:\n",
    "Input begins with an integer T, the number of test cases. Each test case consists of a single integer N, the number of lemon cakes.\n",
    "\n",
    "Output:\n",
    "For each test case, output the package size that will maximize the number of leftover lemon cakes\n",
    "\n",
    "Example:\n",
    "Sample Input\n",
    "2\n",
    "2\n",
    "5\n",
    "Sample Output\n",
    "2\n",
    "3"
   ]
  },
  {
   "cell_type": "code",
   "execution_count": 1,
   "id": "efa89aa8",
   "metadata": {},
   "outputs": [
    {
     "name": "stdout",
     "output_type": "stream",
     "text": [
      "2\n",
      "3\n"
     ]
    }
   ],
   "source": [
    "\n",
    "tc = [2, 5] \n",
    "T = len(tc)\n",
    "\n",
    "for i in range(T):\n",
    "    N = tc[i]\n",
    "\n",
    "    bestPackage = (N // 2) + 1\n",
    "    \n",
    "    print(bestPackage)\n"
   ]
  }
 ],
 "metadata": {
  "kernelspec": {
   "display_name": "base",
   "language": "python",
   "name": "python3"
  },
  "language_info": {
   "codemirror_mode": {
    "name": "ipython",
    "version": 3
   },
   "file_extension": ".py",
   "mimetype": "text/x-python",
   "name": "python",
   "nbconvert_exporter": "python",
   "pygments_lexer": "ipython3",
   "version": "3.13.5"
  }
 },
 "nbformat": 4,
 "nbformat_minor": 5
}
