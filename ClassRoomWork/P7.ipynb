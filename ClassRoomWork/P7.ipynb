{
 "cells": [
  {
   "cell_type": "markdown",
   "id": "a4caa1a5",
   "metadata": {},
   "source": [
    "Avasthi is having some amount of money and he is having only some denominations of 100,50,20,10,5,2,1. He needs to know how many notes are required for the amount present with him. (Do it using Switch case)\n",
    "\n",
    "Input:\n",
    "The first line is the amount of money present.\n",
    "The second line is the denomination present with the Avasthi\n",
    "\n",
    "Output:\n",
    "number of notes for each denomination\n",
    "\n",
    "Example:\n",
    "\n",
    "Input:\n",
    "748\n",
    "50\n",
    "\n",
    "Output:\n",
    "50 rupees note: 14\n",
    "20 rupees note: 2\n",
    "10 rupees note: 0\n",
    "5 rupees note: 1\n",
    "2 rupees note: 1\n",
    "1 rupees note: 1"
   ]
  },
  {
   "cell_type": "code",
   "execution_count": 3,
   "id": "4dd2dfba",
   "metadata": {},
   "outputs": [
    {
     "name": "stdout",
     "output_type": "stream",
     "text": [
      "50 rupees note: 14\n",
      "20 rupees note: 2\n",
      "10 rupees note: 0\n",
      "5 rupees note: 1\n",
      "2 rupees note: 1\n",
      "1 rupees note: 1\n"
     ]
    }
   ],
   "source": [
    "\n",
    "def calculateNotes(amount, denomination):\n",
    "    denominations = [100, 50, 20, 10, 5, 2, 1]\n",
    "    startIndex = denominations.index(denomination)\n",
    "    availNotes = denominations[startIndex:]\n",
    "    for note in availNotes:\n",
    "        count = amount // note\n",
    "        amount %= note\n",
    "        print(f\"{note} rupees note: {count}\")\n",
    "\n",
    "# amount = int(input(\"Enter total amount: \"))\n",
    "# denomination = int(input(\"Enter highest denomination available: \"))\n",
    "amount = 748\n",
    "denomination = 50\n",
    "\n",
    "# Using match-case (Python’s switch)\n",
    "match denomination:\n",
    "    case 100:\n",
    "        calculateNotes(amount, 100)\n",
    "    case 50:\n",
    "        calculateNotes(amount, 50)\n",
    "    case 20:\n",
    "        calculateNotes(amount, 20)\n",
    "    case 10:\n",
    "        calculateNotes(amount, 10)\n",
    "    case 5:\n",
    "        calculateNotes(amount, 5)\n",
    "    case 2:\n",
    "        calculateNotes(amount, 2)\n",
    "    case 1:\n",
    "        calculateNotes(amount, 1)\n",
    "    case _:\n",
    "        print(\"Invalid denomination entered.\")\n"
   ]
  }
 ],
 "metadata": {
  "kernelspec": {
   "display_name": "base",
   "language": "python",
   "name": "python3"
  },
  "language_info": {
   "codemirror_mode": {
    "name": "ipython",
    "version": 3
   },
   "file_extension": ".py",
   "mimetype": "text/x-python",
   "name": "python",
   "nbconvert_exporter": "python",
   "pygments_lexer": "ipython3",
   "version": "3.13.5"
  }
 },
 "nbformat": 4,
 "nbformat_minor": 5
}
