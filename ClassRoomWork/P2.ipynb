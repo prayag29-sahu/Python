{
 "cells": [
  {
   "cell_type": "markdown",
   "id": "abb1083b",
   "metadata": {},
   "source": [
    "P2 : Given three numbers find the maximum of three numbers using the ternary operator."
   ]
  },
  {
   "cell_type": "code",
   "execution_count": 2,
   "id": "a9bf76e4",
   "metadata": {},
   "outputs": [
    {
     "name": "stdout",
     "output_type": "stream",
     "text": [
      "The maximum number is: 32\n"
     ]
    }
   ],
   "source": [
    "a=23\n",
    "b=32\n",
    "c=21\n",
    "\n",
    "maxNum = a if a > b and a > c else (b if b > c else c)\n",
    "\n",
    "print(\"The maximum number is:\", maxNum)"
   ]
  }
 ],
 "metadata": {
  "kernelspec": {
   "display_name": "base",
   "language": "python",
   "name": "python3"
  },
  "language_info": {
   "codemirror_mode": {
    "name": "ipython",
    "version": 3
   },
   "file_extension": ".py",
   "mimetype": "text/x-python",
   "name": "python",
   "nbconvert_exporter": "python",
   "pygments_lexer": "ipython3",
   "version": "3.13.5"
  }
 },
 "nbformat": 4,
 "nbformat_minor": 5
}
