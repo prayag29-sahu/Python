{
 "cells": [
  {
   "cell_type": "markdown",
   "id": "8ae5a618",
   "metadata": {},
   "source": [
    "X and Y are 2 inputs. Find the LCM and GCD of X and Y for T testcases\n",
    "\n",
    "Input:\n",
    "The first line contains an integer T, total number of testcases. Then follow T lines, each line contains an integer X and Y.\n",
    "\n",
    "Output:\n",
    "Print the LCM and GCD of X and Y.\n",
    "\n",
    "Example:\n",
    "Input:\n",
    "3\n",
    "120 140\n",
    "10213 312\n",
    "10 30\n",
    "\n",
    "Output:\n",
    "20 840\n",
    "1 3186456\n",
    "10 30"
   ]
  },
  {
   "cell_type": "code",
   "execution_count": 2,
   "id": "8dd49144",
   "metadata": {},
   "outputs": [
    {
     "name": "stdout",
     "output_type": "stream",
     "text": [
      "20 840\n",
      "1 3186456\n",
      "10 30\n"
     ]
    }
   ],
   "source": [
    "\n",
    "test_cases = [\n",
    "    [120, 140],\n",
    "    [10213, 312],\n",
    "    [10, 30]\n",
    "]\n",
    "\n",
    "T = len(test_cases)\n",
    "\n",
    "def gcd(a, b):\n",
    "    while b != 0:\n",
    "        a, b = b, a % b\n",
    "    return a\n",
    "\n",
    "def lcm(a, b):\n",
    "    return (a * b) // gcd(a, b)\n",
    "\n",
    "for i in range(T):\n",
    "    X, Y = test_cases[i]\n",
    "    g = gcd(X, Y)\n",
    "    l = lcm(X, Y)\n",
    "    print(g, l)\n"
   ]
  }
 ],
 "metadata": {
  "kernelspec": {
   "display_name": "base",
   "language": "python",
   "name": "python3"
  },
  "language_info": {
   "codemirror_mode": {
    "name": "ipython",
    "version": 3
   },
   "file_extension": ".py",
   "mimetype": "text/x-python",
   "name": "python",
   "nbconvert_exporter": "python",
   "pygments_lexer": "ipython3",
   "version": "3.13.5"
  }
 },
 "nbformat": 4,
 "nbformat_minor": 5
}
